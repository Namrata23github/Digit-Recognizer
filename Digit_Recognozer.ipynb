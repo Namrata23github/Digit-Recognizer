{
 "cells": [
  {
   "cell_type": "code",
   "execution_count": 158,
   "metadata": {},
   "outputs": [],
   "source": [
    "import numpy as np\n",
    "import pandas as pd\n",
    "import tensorflow as tf\n",
    "from sklearn import preprocessing\n",
    "from sklearn.model_selection import train_test_split\n",
    "from sklearn.utils import shuffle\n"
   ]
  },
  {
   "cell_type": "code",
   "execution_count": 159,
   "metadata": {},
   "outputs": [],
   "source": [
    "train_raw_data =np.loadtxt('/Users/Nagarwa/AI/Kaggle/digit-recognizer/train.csv',delimiter=',')"
   ]
  },
  {
   "cell_type": "code",
   "execution_count": 160,
   "metadata": {},
   "outputs": [],
   "source": [
    "unscaled_inp = train_raw_data[:,1:]\n",
    "target_all =train_raw_data[:,0]"
   ]
  },
  {
   "cell_type": "code",
   "execution_count": 161,
   "metadata": {},
   "outputs": [],
   "source": [
    "shuffle_indices = np.arange(unscaled_inp.shape[0])\n",
    "np.random.shuffle(shuffle_indices)\n",
    "\n",
    "shuffle_inputs = unscaled_inp[shuffle_indices]\n",
    "shuffle_targets = target_all[shuffle_indices]"
   ]
  },
  {
   "cell_type": "code",
   "execution_count": 162,
   "metadata": {},
   "outputs": [],
   "source": [
    "sample_count = shuffle_inputs.shape[0]"
   ]
  },
  {
   "cell_type": "code",
   "execution_count": 163,
   "metadata": {},
   "outputs": [],
   "source": [
    "train_sample_count = int(0.9*sample_count)\n",
    "validation_sample_count = int(0.1*sample_count)"
   ]
  },
  {
   "cell_type": "code",
   "execution_count": 164,
   "metadata": {},
   "outputs": [],
   "source": [
    "train_inputs = shuffle_inputs[:train_sample_count]\n",
    "train_target = shuffle_targets[:train_sample_count]"
   ]
  },
  {
   "cell_type": "code",
   "execution_count": 165,
   "metadata": {},
   "outputs": [],
   "source": [
    "validation_inputs = shuffle_inputs[train_sample_count:]\n",
    "validation_target = shuffle_targets[train_sample_count:]"
   ]
  },
  {
   "cell_type": "code",
   "execution_count": 166,
   "metadata": {},
   "outputs": [],
   "source": [
    "test_raw_data =np.loadtxt('/Users/Nagarwa/AI/Kaggle/digit-recognizer/test.csv',delimiter=',')\n",
    "\n"
   ]
  },
  {
   "cell_type": "code",
   "execution_count": 167,
   "metadata": {},
   "outputs": [],
   "source": [
    "np.savez('digit_recognizer_train',inputs = train_inputs,targets = train_target)\n",
    "np.savez('digit_recognizer_valid',inputs = validation_inputs,targets = validation_target)\n",
    "np.savez('digit_recognizer_test',inputs = test_raw_data)"
   ]
  },
  {
   "cell_type": "code",
   "execution_count": 168,
   "metadata": {},
   "outputs": [],
   "source": [
    "\n",
    "npz = np.load('digit_recognizer_train.npz')\n",
    "\n",
    "train_input_ = npz['inputs'].astype(np.int)\n",
    "train_target_ = npz['targets'].astype(np.int)\n",
    "\n",
    "\n",
    "npz = np.load('digit_recognizer_valid.npz')\n",
    "\n",
    "validation_input_ = npz['inputs'].astype(np.int)\n",
    "validation_target_ = npz['targets'].astype(np.int)"
   ]
  },
  {
   "cell_type": "code",
   "execution_count": 169,
   "metadata": {},
   "outputs": [
    {
     "data": {
      "text/plain": [
       "array([7, 5, 7, ..., 9, 3, 1])"
      ]
     },
     "execution_count": 169,
     "metadata": {},
     "output_type": "execute_result"
    }
   ],
   "source": [
    "validation_target_"
   ]
  },
  {
   "cell_type": "code",
   "execution_count": null,
   "metadata": {},
   "outputs": [],
   "source": []
  },
  {
   "cell_type": "code",
   "execution_count": 170,
   "metadata": {},
   "outputs": [],
   "source": [
    "inputsize = 783\n",
    "osize = 10\n",
    "hidden_layer_size = 50\n",
    "\n",
    "model = tf.keras.Sequential([\n",
    "    tf.keras.layers.Dense(hidden_layer_size,activation='relu'),\n",
    "    tf.keras.layers.Dense(hidden_layer_size,activation='relu'),\n",
    "     tf.keras.layers.Dense(hidden_layer_size,activation='relu'),\n",
    "    tf.keras.layers.Dense(osize,activation='softmax')    \n",
    "])\n",
    "\n",
    "model.compile(optimizer='adam',loss='sparse_categorical_crossentropy',metrics=['accuracy'])"
   ]
  },
  {
   "cell_type": "code",
   "execution_count": 171,
   "metadata": {},
   "outputs": [
    {
     "name": "stdout",
     "output_type": "stream",
     "text": [
      "Train on 37800 samples, validate on 4200 samples\n",
      "Epoch 1/100\n",
      "37800/37800 - 2s - loss: 2.3423 - accuracy: 0.5957 - val_loss: 0.7327 - val_accuracy: 0.7760\n",
      "Epoch 2/100\n",
      "37800/37800 - 2s - loss: 0.5820 - accuracy: 0.8218 - val_loss: 0.5178 - val_accuracy: 0.8495\n",
      "Epoch 3/100\n",
      "37800/37800 - 2s - loss: 0.4083 - accuracy: 0.8772 - val_loss: 0.3893 - val_accuracy: 0.8876\n",
      "Epoch 4/100\n",
      "37800/37800 - 2s - loss: 0.3208 - accuracy: 0.9050 - val_loss: 0.3421 - val_accuracy: 0.8957\n",
      "Epoch 5/100\n",
      "37800/37800 - 2s - loss: 0.2688 - accuracy: 0.9196 - val_loss: 0.2763 - val_accuracy: 0.9198\n",
      "Epoch 6/100\n",
      "37800/37800 - 2s - loss: 0.2316 - accuracy: 0.9312 - val_loss: 0.2556 - val_accuracy: 0.9248\n",
      "Epoch 7/100\n",
      "37800/37800 - 2s - loss: 0.2111 - accuracy: 0.9379 - val_loss: 0.2396 - val_accuracy: 0.9302\n",
      "Epoch 8/100\n",
      "37800/37800 - 2s - loss: 0.1835 - accuracy: 0.9449 - val_loss: 0.2331 - val_accuracy: 0.9310\n",
      "Epoch 9/100\n",
      "37800/37800 - 2s - loss: 0.1778 - accuracy: 0.9457 - val_loss: 0.2223 - val_accuracy: 0.9357\n",
      "Epoch 10/100\n",
      "37800/37800 - 2s - loss: 0.1562 - accuracy: 0.9532 - val_loss: 0.2422 - val_accuracy: 0.9340\n"
     ]
    },
    {
     "data": {
      "text/plain": [
       "<tensorflow.python.keras.callbacks.History at 0x1b68792750>"
      ]
     },
     "execution_count": 171,
     "metadata": {},
     "output_type": "execute_result"
    }
   ],
   "source": [
    "NUM_EPOCHS = 100\n",
    "batch_size = 100\n",
    "\n",
    "early_stopping = tf.keras.callbacks.EarlyStopping()\n",
    "\n",
    "model.fit(train_input_,\n",
    "         train_target_,\n",
    "         batch_size=batch_size,\n",
    "         epochs=NUM_EPOCHS,\n",
    "          callbacks=[early_stopping],\n",
    "            validation_data=(validation_input_,validation_target_),\n",
    "         verbose=2)"
   ]
  },
  {
   "cell_type": "code",
   "execution_count": 172,
   "metadata": {},
   "outputs": [],
   "source": [
    "np_test = np.load('digit_recognizer_test.npz')\n",
    "np_test_input =  np_test['inputs'].astype(np.int)\n",
    "\n",
    "\n",
    "cnn_predictions = model.predict(np_test_input)\n"
   ]
  },
  {
   "cell_type": "code",
   "execution_count": 173,
   "metadata": {},
   "outputs": [
    {
     "data": {
      "text/plain": [
       "array([[1.0793182e-18, 3.4142806e-12, 9.9991119e-01, ..., 9.0307076e-06,\n",
       "        2.7616496e-11, 1.5397640e-13],\n",
       "       [9.9932277e-01, 1.8046094e-13, 3.5581416e-09, ..., 1.5339956e-06,\n",
       "        3.4921186e-08, 6.5904623e-04],\n",
       "       [6.1069436e-08, 1.0343804e-09, 1.1913972e-07, ..., 9.5134339e-04,\n",
       "        1.9819900e-06, 9.9888617e-01],\n",
       "       ...,\n",
       "       [5.4035816e-14, 1.3755123e-09, 1.7151159e-07, ..., 5.2393770e-11,\n",
       "        7.9779362e-05, 1.2483244e-03],\n",
       "       [3.2995757e-07, 1.9370095e-08, 3.1338437e-05, ..., 1.0326782e-05,\n",
       "        5.5978580e-07, 9.6325409e-01],\n",
       "       [4.0083968e-16, 8.7636778e-09, 9.9931586e-01, ..., 2.9359953e-04,\n",
       "        2.6578313e-08, 3.1114885e-12]], dtype=float32)"
      ]
     },
     "execution_count": 173,
     "metadata": {},
     "output_type": "execute_result"
    }
   ],
   "source": [
    "\n",
    "cnn_predictions\n"
   ]
  },
  {
   "cell_type": "code",
   "execution_count": 189,
   "metadata": {},
   "outputs": [],
   "source": [
    "prediction=tf.argmax(cnn_predictions,1)"
   ]
  },
  {
   "cell_type": "code",
   "execution_count": 197,
   "metadata": {},
   "outputs": [
    {
     "data": {
      "text/plain": [
       "tensorflow.python.framework.ops.EagerTensor"
      ]
     },
     "execution_count": 197,
     "metadata": {},
     "output_type": "execute_result"
    }
   ],
   "source": [
    "type(prediction)"
   ]
  },
  {
   "cell_type": "code",
   "execution_count": 205,
   "metadata": {},
   "outputs": [],
   "source": [
    "predicted_output = prediction.numpy()"
   ]
  },
  {
   "cell_type": "code",
   "execution_count": 207,
   "metadata": {},
   "outputs": [],
   "source": [
    "np.savetxt(\"Digit_Recognizer_prediction.csv\", np.dstack((np.arange(1, predicted_output.size+1),predicted_output))[0],\"%d,%d\",header=\"ImageId,Label\")"
   ]
  },
  {
   "cell_type": "code",
   "execution_count": null,
   "metadata": {},
   "outputs": [],
   "source": []
  }
 ],
 "metadata": {
  "kernelspec": {
   "display_name": "Python [conda env:py3Tensor] *",
   "language": "python",
   "name": "conda-env-py3Tensor-py"
  },
  "language_info": {
   "codemirror_mode": {
    "name": "ipython",
    "version": 3
   },
   "file_extension": ".py",
   "mimetype": "text/x-python",
   "name": "python",
   "nbconvert_exporter": "python",
   "pygments_lexer": "ipython3",
   "version": "3.7.5"
  }
 },
 "nbformat": 4,
 "nbformat_minor": 2
}
